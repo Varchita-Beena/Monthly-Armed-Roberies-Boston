{
  "nbformat": 4,
  "nbformat_minor": 0,
  "metadata": {
    "colab": {
      "name": "monthly_armed_roberies_boston.ipynb",
      "provenance": []
    },
    "kernelspec": {
      "name": "python3",
      "display_name": "Python 3"
    },
    "language_info": {
      "name": "python"
    }
  },
  "cells": [
    {
      "cell_type": "markdown",
      "metadata": {
        "id": "-veu4yPAgcme"
      },
      "source": [
        "# Data\n",
        "##### https://www.kaggle.com/noelmat/univariate-analysis-of-armed-robberies-in-boston/data"
      ]
    },
    {
      "cell_type": "code",
      "metadata": {
        "id": "LaBoIzVNgV2l"
      },
      "source": [
        "import numpy as np\n",
        "import pandas as pd\n",
        "from sklearn.metrics import mean_squared_error\n",
        "from math import sqrt\n",
        "import matplotlib.pyplot as plt\n",
        "from statsmodels.tsa.stattools import adfuller\n",
        "from statsmodels.graphics.tsaplots import plot_acf\n",
        "from statsmodels.tsa.arima_model import ARIMA\n",
        "from statsmodels.graphics.tsaplots import plot_pacf\n",
        "import warnings\n",
        "import math\n",
        "from scipy.stats import boxcox\n",
        "from statsmodels.graphics.gofplots import qqplot"
      ],
      "execution_count": 98,
      "outputs": []
    },
    {
      "cell_type": "code",
      "metadata": {
        "id": "hevNdUOtgV_2"
      },
      "source": [
        "dataset = pd.read_csv('dataset.csv')"
      ],
      "execution_count": 40,
      "outputs": []
    },
    {
      "cell_type": "code",
      "metadata": {
        "colab": {
          "base_uri": "https://localhost:8080/"
        },
        "id": "dvZJ_U7ygt4d",
        "outputId": "7fc063e6-6220-4ccf-e629-45dca042311b"
      },
      "source": [
        "dataset.shape"
      ],
      "execution_count": 41,
      "outputs": [
        {
          "output_type": "execute_result",
          "data": {
            "text/plain": [
              "(106, 2)"
            ]
          },
          "metadata": {},
          "execution_count": 41
        }
      ]
    },
    {
      "cell_type": "code",
      "metadata": {
        "colab": {
          "base_uri": "https://localhost:8080/",
          "height": 206
        },
        "id": "Q6zPeDNggvH3",
        "outputId": "e3cd06b9-c051-40a6-f3d6-3243eca6aa35"
      },
      "source": [
        "dataset.head(5)"
      ],
      "execution_count": 42,
      "outputs": [
        {
          "output_type": "execute_result",
          "data": {
            "text/html": [
              "<div>\n",
              "<style scoped>\n",
              "    .dataframe tbody tr th:only-of-type {\n",
              "        vertical-align: middle;\n",
              "    }\n",
              "\n",
              "    .dataframe tbody tr th {\n",
              "        vertical-align: top;\n",
              "    }\n",
              "\n",
              "    .dataframe thead th {\n",
              "        text-align: right;\n",
              "    }\n",
              "</style>\n",
              "<table border=\"1\" class=\"dataframe\">\n",
              "  <thead>\n",
              "    <tr style=\"text-align: right;\">\n",
              "      <th></th>\n",
              "      <th>Month</th>\n",
              "      <th>Robberies</th>\n",
              "    </tr>\n",
              "  </thead>\n",
              "  <tbody>\n",
              "    <tr>\n",
              "      <th>0</th>\n",
              "      <td>01-01-1966</td>\n",
              "      <td>41</td>\n",
              "    </tr>\n",
              "    <tr>\n",
              "      <th>1</th>\n",
              "      <td>01-02-1966</td>\n",
              "      <td>39</td>\n",
              "    </tr>\n",
              "    <tr>\n",
              "      <th>2</th>\n",
              "      <td>01-03-1966</td>\n",
              "      <td>50</td>\n",
              "    </tr>\n",
              "    <tr>\n",
              "      <th>3</th>\n",
              "      <td>01-04-1966</td>\n",
              "      <td>40</td>\n",
              "    </tr>\n",
              "    <tr>\n",
              "      <th>4</th>\n",
              "      <td>01-05-1966</td>\n",
              "      <td>43</td>\n",
              "    </tr>\n",
              "  </tbody>\n",
              "</table>\n",
              "</div>"
            ],
            "text/plain": [
              "        Month  Robberies\n",
              "0  01-01-1966         41\n",
              "1  01-02-1966         39\n",
              "2  01-03-1966         50\n",
              "3  01-04-1966         40\n",
              "4  01-05-1966         43"
            ]
          },
          "metadata": {},
          "execution_count": 42
        }
      ]
    },
    {
      "cell_type": "markdown",
      "metadata": {
        "id": "rVAwHA-cisYf"
      },
      "source": [
        "Performance Measure: RMSE\n",
        "Test Strategy: walk-forward validation\n",
        "1. 50% data will be held back to train the model\n",
        "2. remaining 50% will be iterated and test the mode\n",
        "3. for each in test dataset:</br>\n",
        "a. train a model </br>\n",
        "b. one-step prediction made and prediction stored for later evaluation</br>\n",
        "c. actualobservation from the test dataset will be added to the training dataset for the next iteration</br>"
      ]
    },
    {
      "cell_type": "markdown",
      "metadata": {
        "id": "UDdhqu5CkaDr"
      },
      "source": [
        "# Baseline\n",
        "# Persistence Model"
      ]
    },
    {
      "cell_type": "code",
      "metadata": {
        "colab": {
          "base_uri": "https://localhost:8080/"
        },
        "id": "-dG3NpW4ibtG",
        "outputId": "9cc45b11-ec8d-4706-adcf-7a8610a7c192"
      },
      "source": [
        "robbery = robberies.tolist()\n",
        "train_size = int(len(robbery) * 0.5)\n",
        "train, test = robbery[:train_size], robbery[train_size:]\n",
        "\n",
        "history = [x for x in train]\n",
        "predictions = list()\n",
        "for i in range(len(test)):\n",
        "    yhat = history[-1]\n",
        "    predictions.append(yhat)\n",
        "    obs = test[i]\n",
        "    history.append(obs)\n",
        "    print('Predicted=%.3f, Expected=%.3f' % (yhat, obs))\n",
        "rmse = sqrt(mean_squared_error(test, predictions))\n",
        "print('RMSE: %.3f' % rmse)"
      ],
      "execution_count": 24,
      "outputs": [
        {
          "output_type": "stream",
          "name": "stdout",
          "text": [
            "Predicted=98.000, Expected=125.000\n",
            "Predicted=125.000, Expected=155.000\n",
            "Predicted=155.000, Expected=190.000\n",
            "Predicted=190.000, Expected=236.000\n",
            "Predicted=236.000, Expected=189.000\n",
            "Predicted=189.000, Expected=174.000\n",
            "Predicted=174.000, Expected=178.000\n",
            "Predicted=178.000, Expected=136.000\n",
            "Predicted=136.000, Expected=161.000\n",
            "Predicted=161.000, Expected=171.000\n",
            "Predicted=171.000, Expected=149.000\n",
            "Predicted=149.000, Expected=184.000\n",
            "Predicted=184.000, Expected=155.000\n",
            "Predicted=155.000, Expected=276.000\n",
            "Predicted=276.000, Expected=224.000\n",
            "Predicted=224.000, Expected=213.000\n",
            "Predicted=213.000, Expected=279.000\n",
            "Predicted=279.000, Expected=268.000\n",
            "Predicted=268.000, Expected=287.000\n",
            "Predicted=287.000, Expected=238.000\n",
            "Predicted=238.000, Expected=213.000\n",
            "Predicted=213.000, Expected=257.000\n",
            "Predicted=257.000, Expected=293.000\n",
            "Predicted=293.000, Expected=212.000\n",
            "Predicted=212.000, Expected=246.000\n",
            "Predicted=246.000, Expected=353.000\n",
            "Predicted=353.000, Expected=339.000\n",
            "Predicted=339.000, Expected=308.000\n",
            "Predicted=308.000, Expected=247.000\n",
            "Predicted=247.000, Expected=257.000\n",
            "Predicted=257.000, Expected=322.000\n",
            "Predicted=322.000, Expected=298.000\n",
            "Predicted=298.000, Expected=273.000\n",
            "Predicted=273.000, Expected=312.000\n",
            "Predicted=312.000, Expected=249.000\n",
            "Predicted=249.000, Expected=286.000\n",
            "Predicted=286.000, Expected=279.000\n",
            "Predicted=279.000, Expected=309.000\n",
            "Predicted=309.000, Expected=401.000\n",
            "Predicted=401.000, Expected=309.000\n",
            "Predicted=309.000, Expected=328.000\n",
            "Predicted=328.000, Expected=353.000\n",
            "Predicted=353.000, Expected=354.000\n",
            "Predicted=354.000, Expected=327.000\n",
            "Predicted=327.000, Expected=324.000\n",
            "Predicted=324.000, Expected=285.000\n",
            "Predicted=285.000, Expected=243.000\n",
            "Predicted=243.000, Expected=241.000\n",
            "Predicted=241.000, Expected=287.000\n",
            "Predicted=287.000, Expected=355.000\n",
            "Predicted=355.000, Expected=460.000\n",
            "Predicted=460.000, Expected=364.000\n",
            "Predicted=364.000, Expected=487.000\n",
            "RMSE: 51.844\n"
          ]
        }
      ]
    },
    {
      "cell_type": "markdown",
      "metadata": {
        "id": "shXgk1GclguV"
      },
      "source": [
        "This means that on average, the model was\n",
        "wrong by about 51 robberies for each prediction made."
      ]
    },
    {
      "cell_type": "markdown",
      "metadata": {
        "id": "brfgCdUCloBP"
      },
      "source": [
        "# Data Analysis"
      ]
    },
    {
      "cell_type": "markdown",
      "metadata": {
        "id": "H78ox5Bdl7oT"
      },
      "source": [
        "### summary statistics\n",
        "The mean is about 173, which we might consider our level in this series.</br>\n",
        "The standard deviation (average spread from the mean) is relatively large at 112 robberies.</br>\n",
        "The percentiles along with the standard deviation do suggest a large spread to the data."
      ]
    },
    {
      "cell_type": "code",
      "metadata": {
        "colab": {
          "base_uri": "https://localhost:8080/"
        },
        "id": "XyiySBSIlPpP",
        "outputId": "67d8a088-001a-4ada-9478-214f61b2547e"
      },
      "source": [
        "#summary statistics\n",
        "robberies.describe()"
      ],
      "execution_count": 25,
      "outputs": [
        {
          "output_type": "execute_result",
          "data": {
            "text/plain": [
              "count    106.000000\n",
              "mean     173.103774\n",
              "std      112.231133\n",
              "min       29.000000\n",
              "25%       74.750000\n",
              "50%      144.500000\n",
              "75%      271.750000\n",
              "max      487.000000\n",
              "Name: Robberies, dtype: float64"
            ]
          },
          "metadata": {},
          "execution_count": 25
        }
      ]
    },
    {
      "cell_type": "markdown",
      "metadata": {
        "id": "Jbalpg4hmJF2"
      },
      "source": [
        "### Line plot"
      ]
    },
    {
      "cell_type": "code",
      "metadata": {
        "colab": {
          "base_uri": "https://localhost:8080/",
          "height": 265
        },
        "id": "e_LLc9NxlyED",
        "outputId": "e0eeea63-229e-449f-f17e-e631bfd94945"
      },
      "source": [
        "robberies.plot()\n",
        "plt.show()"
      ],
      "execution_count": 27,
      "outputs": [
        {
          "output_type": "display_data",
          "data": {
            "image/png": "[encoded data removed]",
            "text/plain": [
              "<Figure size 432x288 with 1 Axes>"
            ]
          },
          "metadata": {
            "needs_background": "light"
          }
        }
      ]
    },
    {
      "cell_type": "markdown",
      "metadata": {
        "id": "7_wQzhgwmaUa"
      },
      "source": [
        "There is an increasing trend of robberies over time.</br>\n",
        "There do not appear to be any obvious outliers.</br>\n",
        "There are relatively large \n",
        "fluctuations from year to year, up and down.</br>\n",
        "The fluctuations at later years appear larger than fluctuations at earlier years.</br>\n",
        "The trend means the dataset is almost certainly non-stationary and the apparent chang in fluctuation may also contribute."
      ]
    },
    {
      "cell_type": "markdown",
      "metadata": {
        "id": "wqQGo_yAmsAt"
      },
      "source": [
        "## density plot"
      ]
    },
    {
      "cell_type": "code",
      "metadata": {
        "colab": {
          "base_uri": "https://localhost:8080/",
          "height": 265
        },
        "id": "K9RLKVHrmTF5",
        "outputId": "fee4e51f-8ee7-4243-fbd4-cb2cf8de4eb1"
      },
      "source": [
        "robberies.hist()\n",
        "plt.show()"
      ],
      "execution_count": 28,
      "outputs": [
        {
          "output_type": "display_data",
          "data": {
            "image/png": "[encoded data removed]",
            "text/plain": [
              "<Figure size 432x288 with 1 Axes>"
            ]
          },
          "metadata": {
            "needs_background": "light"
          }
        }
      ]
    },
    {
      "cell_type": "markdown",
      "metadata": {
        "id": "gZp12DfCm8SE"
      },
      "source": [
        "The distribution is not Gaussian.</br>\n",
        "The distribution is left shifted and may be exponential or a double Gaussian."
      ]
    },
    {
      "cell_type": "code",
      "metadata": {
        "colab": {
          "base_uri": "https://localhost:8080/",
          "height": 265
        },
        "id": "Leu1shBamu0l",
        "outputId": "cf73304a-3165-4f7e-e1e2-3de02caf827f"
      },
      "source": [
        "robberies.plot(kind = 'kde')\n",
        "plt.show()"
      ],
      "execution_count": 29,
      "outputs": [
        {
          "output_type": "display_data",
          "data": {
            "image/png": "[encoded data removed]",
            "text/plain": [
              "<Figure size 432x288 with 1 Axes>"
            ]
          },
          "metadata": {
            "needs_background": "light"
          }
        }
      ]
    },
    {
      "cell_type": "code",
      "metadata": {
        "colab": {
          "base_uri": "https://localhost:8080/",
          "height": 265
        },
        "id": "h3-vwImJm39Y",
        "outputId": "5e2616fc-8d74-4c14-8a82-fa26463c958b"
      },
      "source": [
        "series = pd.read_csv('dataset (1).csv', header=None, index_col=0, parse_dates=True, squeeze=True)\n",
        "groups = series['1966':'1973'].groupby(pd.Grouper(freq='A'))\n",
        "years = pd.DataFrame()\n",
        "for name, group in groups:\n",
        "    years[name.year] = group.values\n",
        "years.boxplot()\n",
        "plt.show()"
      ],
      "execution_count": 49,
      "outputs": [
        {
          "output_type": "display_data",
          "data": {
            "image/png": "[encoded data removed]",
            "text/plain": [
              "<Figure size 432x288 with 1 Axes>"
            ]
          },
          "metadata": {
            "needs_background": "light"
          }
        }
      ]
    },
    {
      "cell_type": "markdown",
      "metadata": {
        "id": "_P3TjSycoyYE"
      },
      "source": [
        "The median values for each year (red line) show a trend that may not be linear.</br>\n",
        "The spread, or middle 50% of the data (blue boxes), di\u000ber, but perhaps not consistently\n",
        "over time.</br>\n",
        "The earlier years, perhaps first 2, are quite different from the rest of the dataset."
      ]
    },
    {
      "cell_type": "markdown",
      "metadata": {
        "id": "zdDaGM5apAp9"
      },
      "source": [
        "# ARIMA\n",
        "Make series stationary</br>\n",
        "differencing: obs(t) - obs(t-1)</br>\n",
        "stationary test\n"
      ]
    },
    {
      "cell_type": "code",
      "metadata": {
        "id": "X7VyM_MenLyr"
      },
      "source": [
        "def difference(dataset):\n",
        "    diff = []\n",
        "    for i in range(1, len(dataset)):\n",
        "        value = dataset[i] - dataset[i-1]\n",
        "        diff.append(value)\n",
        "    return pd.Series(diff)"
      ],
      "execution_count": 54,
      "outputs": []
    },
    {
      "cell_type": "code",
      "metadata": {
        "id": "LC9rpWuUpu6K"
      },
      "source": [
        "stationary = difference(robberies)\n",
        "stationary.index = series.index[1:]"
      ],
      "execution_count": 55,
      "outputs": []
    },
    {
      "cell_type": "code",
      "metadata": {
        "colab": {
          "base_uri": "https://localhost:8080/"
        },
        "id": "MdGZXF1sp9bd",
        "outputId": "e801911a-e88b-48e9-cd56-a2e64fdb85d9"
      },
      "source": [
        "result = adfuller(stationary)\n",
        "print('ADF Statistic: %f' % result[0])\n",
        "print('p-value: %f' % result[1])\n",
        "print('Critical Values:')\n",
        "for key, value in result[4].items():\n",
        "    print('\\t%s: %.3f' % (key, value))"
      ],
      "execution_count": 58,
      "outputs": [
        {
          "output_type": "stream",
          "name": "stdout",
          "text": [
            "ADF Statistic: -3.980946\n",
            "p-value: 0.001514\n",
            "Critical Values:\n",
            "\t1%: -3.503\n",
            "\t5%: -2.893\n",
            "\t10%: -2.584\n"
          ]
        }
      ]
    },
    {
      "cell_type": "markdown",
      "metadata": {
        "id": "OP3o7idXqUKI"
      },
      "source": [
        "The results show that the test statistic value -3.980946 is smaller than the critical value at 5% of -2.893. So, we can reject null hypothesis. Rejecting the null hypothesis means that\n",
        "the process has no unit root, and in turn that the 1-lag differenced time series is stationary or\n",
        "does not have time-dependent structure.</br>\n",
        "This suggests that at least one level of differencing is required. The d parameter in our\n",
        "ARIMA model should at least be a value of 1."
      ]
    },
    {
      "cell_type": "markdown",
      "metadata": {
        "id": "Qmr45Aodq2g7"
      },
      "source": [
        "The next step is to select the lag values for\n",
        "the Autoregression (AR) and Moving Average (MA) parameters, p and q respectively.\n",
        "\n",
        "The ACF shows a significant lag for 10-11 months.</br>The PACF shows a significant lag for perhaps 2 months.\n",
        "</br>Both the ACF and PACF show a drop-off at the same point, perhaps suggesting a mix of\n",
        "AR and MA.</br>\n",
        "A good starting point for the p and q values are 11 and 2."
      ]
    },
    {
      "cell_type": "code",
      "metadata": {
        "colab": {
          "base_uri": "https://localhost:8080/",
          "height": 281
        },
        "id": "Ix0_iIagqB7e",
        "outputId": "abd3d4e4-b2bb-4362-858f-255e53c1063d"
      },
      "source": [
        "plot_acf(robberies, lags=50)\n",
        "plt.show()"
      ],
      "execution_count": 63,
      "outputs": [
        {
          "output_type": "display_data",
          "data": {
            "image/png": "[encoded data removed]",
            "text/plain": [
              "<Figure size 432x288 with 1 Axes>"
            ]
          },
          "metadata": {
            "needs_background": "light"
          }
        }
      ]
    },
    {
      "cell_type": "code",
      "metadata": {
        "colab": {
          "base_uri": "https://localhost:8080/",
          "height": 281
        },
        "id": "5dinhDS3q8Nz",
        "outputId": "3ce0ae12-87f8-4ace-96ac-fa82861130f1"
      },
      "source": [
        "plot_pacf(robberies, lags=50)\n",
        "plt.show()"
      ],
      "execution_count": 66,
      "outputs": [
        {
          "output_type": "display_data",
          "data": {
            "image/png": "[encoded data removed]",
            "text/plain": [
              "<Figure size 432x288 with 1 Axes>"
            ]
          },
          "metadata": {
            "needs_background": "light"
          }
        }
      ]
    },
    {
      "cell_type": "code",
      "metadata": {
        "colab": {
          "base_uri": "https://localhost:8080/"
        },
        "id": "veyKpht5u3Nl",
        "outputId": "a48cd514-7aac-4944-8a4b-fb93f114a8f4"
      },
      "source": [
        "X = robberies.tolist()\n",
        "train_size = int(len(X) * 0.50)\n",
        "train, test = X[0:train_size], X[train_size:]\n",
        "history = [x for x in train]\n",
        "predictions = list()\n",
        "for i in range(len(test)):\n",
        "    model = ARIMA(history, order=(0,1,2))\n",
        "    model_fit = model.fit(disp=0)\n",
        "    yhat = model_fit.forecast()[0]\n",
        "    predictions.append(yhat)\n",
        "    obs = test[i]\n",
        "    history.append(obs)\n",
        "    print('Predicted=%.3f, Expected=%.3f' % (yhat, obs))\n",
        "# report performance\n",
        "rmse = sqrt(mean_squared_error(test, predictions))\n",
        "print('RMSE: %.3f' % rmse)"
      ],
      "execution_count": 72,
      "outputs": [
        {
          "output_type": "stream",
          "name": "stdout",
          "text": [
            "Predicted=102.710, Expected=125.000\n",
            "Predicted=118.868, Expected=155.000\n",
            "Predicted=141.099, Expected=190.000\n",
            "Predicted=176.593, Expected=236.000\n",
            "Predicted=233.418, Expected=189.000\n",
            "Predicted=186.905, Expected=174.000\n",
            "Predicted=184.846, Expected=178.000\n",
            "Predicted=183.763, Expected=136.000\n",
            "Predicted=146.180, Expected=161.000\n",
            "Predicted=171.279, Expected=171.000\n",
            "Predicted=170.196, Expected=149.000\n",
            "Predicted=154.425, Expected=184.000\n",
            "Predicted=185.708, Expected=155.000\n",
            "Predicted=157.284, Expected=276.000\n",
            "Predicted=245.280, Expected=224.000\n",
            "Predicted=222.242, Expected=213.000\n",
            "Predicted=219.698, Expected=279.000\n",
            "Predicted=261.506, Expected=268.000\n",
            "Predicted=264.287, Expected=287.000\n",
            "Predicted=282.759, Expected=238.000\n",
            "Predicted=255.843, Expected=213.000\n",
            "Predicted=235.189, Expected=257.000\n",
            "Predicted=257.622, Expected=293.000\n",
            "Predicted=280.345, Expected=212.000\n",
            "Predicted=235.564, Expected=246.000\n",
            "Predicted=255.342, Expected=353.000\n",
            "Predicted=318.613, Expected=339.000\n",
            "Predicted=310.335, Expected=308.000\n",
            "Predicted=306.789, Expected=247.000\n",
            "Predicted=270.213, Expected=257.000\n",
            "Predicted=283.318, Expected=322.000\n",
            "Predicted=316.063, Expected=298.000\n",
            "Predicted=294.466, Expected=273.000\n",
            "Predicted=289.635, Expected=312.000\n",
            "Predicted=314.759, Expected=249.000\n",
            "Predicted=268.674, Expected=286.000\n",
            "Predicted=303.095, Expected=279.000\n",
            "Predicted=286.441, Expected=309.000\n",
            "Predicted=309.455, Expected=401.000\n",
            "Predicted=363.141, Expected=309.000\n",
            "Predicted=304.979, Expected=328.000\n",
            "Predicted=336.240, Expected=353.000\n",
            "Predicted=342.814, Expected=354.000\n",
            "Predicted=347.675, Expected=327.000\n",
            "Predicted=335.842, Expected=324.000\n",
            "Predicted=338.449, Expected=285.000\n",
            "Predicted=314.714, Expected=243.000\n",
            "Predicted=290.336, Expected=241.000\n",
            "Predicted=280.614, Expected=287.000\n",
            "Predicted=302.079, Expected=355.000\n",
            "Predicted=340.210, Expected=460.000\n",
            "Predicted=405.172, Expected=364.000\n",
            "Predicted=333.755, Expected=487.000\n",
            "RMSE: 49.821\n"
          ]
        }
      ]
    },
    {
      "cell_type": "markdown",
      "metadata": {
        "id": "SILuK7Zr2Jkk"
      },
      "source": [
        "Grid hyperparameter Arima\n"
      ]
    },
    {
      "cell_type": "code",
      "metadata": {
        "id": "7qrLWvoLvrQm"
      },
      "source": [
        "def evaluate_arima_model(X, arima_order):\n",
        "    X = X.astype('float32')\n",
        "    train_size = int(len(X) * 0.50)\n",
        "    train, test = X[0:train_size], X[train_size:]\n",
        "    history = [x for x in train]\n",
        "    # make predictions\n",
        "    predictions = list()\n",
        "    for t in range(len(test)):\n",
        "        model = ARIMA(history, order=arima_order)\n",
        "        model_fit = model.fit(disp=0)\n",
        "        yhat = model_fit.forecast()[0]\n",
        "        predictions.append(yhat)\n",
        "        history.append(test[t])\n",
        "    rmse = sqrt(mean_squared_error(test, predictions))\n",
        "    return rmse\n",
        "\n",
        "def evaluate_models(dataset, p_values, d_values, q_values):\n",
        "    dataset = dataset.astype('float32')\n",
        "    best_score, best_cfg = float(\"inf\"), None\n",
        "    for p in p_values:\n",
        "        for d in d_values:\n",
        "            for q in q_values:\n",
        "                order = (p,d,q)\n",
        "                try:\n",
        "                    rmse = evaluate_arima_model(dataset, order)\n",
        "                    if rmse < best_score:\n",
        "                        best_score, best_cfg = rmse, order\n",
        "                    print('ARIMA%s RMSE=%.3f' % (order,rmse))\n",
        "                except:\n",
        "                    continue\n",
        "    print('Best ARIMA%s RMSE=%.3f' % (best_cfg, best_score))"
      ],
      "execution_count": 86,
      "outputs": []
    },
    {
      "cell_type": "code",
      "metadata": {
        "id": "I9vUAabJyG67"
      },
      "source": [
        "p_values = range(0,13)\n",
        "d_values = range(0, 4)\n",
        "q_values = range(0, 13)\n",
        "warnings.filterwarnings(\"ignore\")\n",
        "evaluate_models(np.array(robberies), p_values, d_values, q_values)\n",
        "\n",
        "# Running this will give p,d,q as 0, 1, 2 as best suitable parameters"
      ],
      "execution_count": null,
      "outputs": []
    },
    {
      "cell_type": "markdown",
      "metadata": {
        "id": "B3AR53JX2RhI"
      },
      "source": [
        "Residual Errors\n",
        "The graphs suggest a Gaussian-like distribution with a longer right tail. This is perhaps a sign that the predictions are biased, and in this case\n",
        "that perhaps a power-based transform of the raw data before modeling might be useful."
      ]
    },
    {
      "cell_type": "code",
      "metadata": {
        "colab": {
          "base_uri": "https://localhost:8080/",
          "height": 529
        },
        "id": "3WOQUQuBySEm",
        "outputId": "644e0db1-b98e-4860-8adc-329c12979afc"
      },
      "source": [
        "X = robberies.values\n",
        "X = X.astype('float32')\n",
        "train_size = int(len(X) * 0.50)\n",
        "train, test = X[0:train_size], X[train_size:]\n",
        "# walk-forward validation\n",
        "history = [x for x in train]\n",
        "predictions = list()\n",
        "for i in range(len(test)):\n",
        "    model = ARIMA(history, order=(0,1,2))\n",
        "    model_fit = model.fit(disp=0)\n",
        "    yhat = model_fit.forecast()[0]\n",
        "    predictions.append(yhat)\n",
        "    # observation\n",
        "    obs = test[i]\n",
        "    history.append(obs)\n",
        "# errors\n",
        "residuals = [test[i]-predictions[i] for i in range(len(test))]\n",
        "residuals = pd.DataFrame(residuals)\n",
        "residuals.hist()\n",
        "plt.show()\n",
        "residuals.plot(kind='kde')\n",
        "plt.show()"
      ],
      "execution_count": 90,
      "outputs": [
        {
          "output_type": "display_data",
          "data": {
            "image/png": "[encoded data removed]",
            "text/plain": [
              "<Figure size 432x288 with 1 Axes>"
            ]
          },
          "metadata": {
            "needs_background": "light"
          }
        },
        {
          "output_type": "display_data",
          "data": {
            "image/png": "[encoded data removed]",
            "text/plain": [
              "<Figure size 432x288 with 1 Axes>"
            ]
          },
          "metadata": {
            "needs_background": "light"
          }
        }
      ]
    },
    {
      "cell_type": "markdown",
      "metadata": {
        "id": "5zsrYwR59UmB"
      },
      "source": [
        "ACF and PACF plots of the residual errors from ARIMA</br>\n",
        "The results suggest that what little autocorrelation is present in the time series has been\n",
        "captured by the model."
      ]
    },
    {
      "cell_type": "code",
      "metadata": {
        "colab": {
          "base_uri": "https://localhost:8080/",
          "height": 545
        },
        "id": "WNc-bskn7de5",
        "outputId": "60722af8-e60f-4846-af9b-4b6b151d6ae4"
      },
      "source": [
        "plot_acf(residuals, lags=25)\n",
        "plt.show()\n",
        "plot_pacf(residuals, lags=25)\n",
        "plt.show()"
      ],
      "execution_count": 91,
      "outputs": [
        {
          "output_type": "display_data",
          "data": {
            "image/png": "[encoded data removed]",
            "text/plain": [
              "<Figure size 432x288 with 1 Axes>"
            ]
          },
          "metadata": {
            "needs_background": "light"
          }
        },
        {
          "output_type": "display_data",
          "data": {
            "image/png": "[encoded data removed]",
            "text/plain": [
              "<Figure size 432x288 with 1 Axes>"
            ]
          },
          "metadata": {
            "needs_background": "light"
          }
        }
      ]
    },
    {
      "cell_type": "markdown",
      "metadata": {
        "id": "GJiLdVZP_UyJ"
      },
      "source": [
        "# box-cox transformation"
      ]
    },
    {
      "cell_type": "code",
      "metadata": {
        "id": "vEtDO4DU9OXI"
      },
      "source": [
        "X = robberies.values\n",
        "transformed, lam = boxcox(X)"
      ],
      "execution_count": 93,
      "outputs": []
    },
    {
      "cell_type": "code",
      "metadata": {
        "colab": {
          "base_uri": "https://localhost:8080/",
          "height": 792
        },
        "id": "CBwHzUpn_kyS",
        "outputId": "91d3e633-3bf0-4423-9896-4a06997b8a64"
      },
      "source": [
        "print('Lambda: %f' % lam)\n",
        "# line plot\n",
        "plt.plot(transformed)\n",
        "plt.show()\n",
        "# histogram\n",
        "plt.hist(transformed)\n",
        "plt.show()\n",
        "# q-q plot\n",
        "qqplot(transformed, line='r')\n",
        "plt.show()"
      ],
      "execution_count": 96,
      "outputs": [
        {
          "output_type": "stream",
          "name": "stdout",
          "text": [
            "Lambda: 0.260060\n"
          ]
        },
        {
          "output_type": "display_data",
          "data": {
            "image/png": "[encoded data removed]",
            "text/plain": [
              "<Figure size 432x288 with 1 Axes>"
            ]
          },
          "metadata": {
            "needs_background": "light"
          }
        },
        {
          "output_type": "display_data",
          "data": {
            "image/png": "[encoded data removed]",
            "text/plain": [
              "<Figure size 432x288 with 1 Axes>"
            ]
          },
          "metadata": {
            "needs_background": "light"
          }
        },
        {
          "output_type": "display_data",
          "data": {
            "image/png": "[encoded data removed]",
            "text/plain": [
              "<Figure size 432x288 with 1 Axes>"
            ]
          },
          "metadata": {
            "needs_background": "light"
          }
        }
      ]
    },
    {
      "cell_type": "markdown",
      "metadata": {
        "id": "OxVkvqsHAF_4"
      },
      "source": [
        "how the\n",
        "distribution of values compared to an idealized Gaussian distribution</br>\n",
        "The large \n",
        "fluctuations have been removed from the line plot of the time series.</br>\n",
        "The histogram shows a \n",
        "atter or more uniform (well behaved) distribution of values.</br>\n",
        "The Q-Q plot is reasonable, but still not a perfect fitt for a Gaussian distribution."
      ]
    },
    {
      "cell_type": "markdown",
      "metadata": {
        "id": "becVud3RAomm"
      },
      "source": [
        "# ARIMA with box-cox transformation"
      ]
    },
    {
      "cell_type": "code",
      "metadata": {
        "colab": {
          "base_uri": "https://localhost:8080/"
        },
        "id": "bkBbVKUt_v6R",
        "outputId": "343069f4-0e84-46bd-de30-05896d0eca41"
      },
      "source": [
        "def boxcox_inverse(value, lam):\n",
        "    if lam == 0:\n",
        "        return exp(value)\n",
        "    return math.exp(math.log(lam * value + 1) / lam)\n",
        "\n",
        "X = robberies.values\n",
        "X = X.astype('float32')\n",
        "train_size = int(len(X) * 0.50)\n",
        "train, test = X[0:train_size], X[train_size:]\n",
        "# walk-forward validation\n",
        "history = [x for x in train]\n",
        "predictions = list()\n",
        "for i in range(len(test)):\n",
        "    transformed, lam = boxcox(history)\n",
        "    if lam < -5:\n",
        "        transformed, lam = history, 1\n",
        "    model = ARIMA(transformed, order=(0,1,2))\n",
        "    model_fit = model.fit(disp=0)\n",
        "    yhat = model_fit.forecast()[0]\n",
        "    # invert transformed prediction\n",
        "    yhat = boxcox_inverse(yhat, lam)\n",
        "    predictions.append(yhat)\n",
        "    # observation\n",
        "    obs = test[i]\n",
        "    history.append(obs)\n",
        "    print('Predicted=%.3f, Expected=%.3f' % (yhat, obs))\n",
        "# report performance\n",
        "rmse = sqrt(mean_squared_error(test, predictions))\n",
        "print('RMSE: %.3f' % rmse)"
      ],
      "execution_count": 100,
      "outputs": [
        {
          "output_type": "stream",
          "name": "stdout",
          "text": [
            ">Predicted=104.062, Expected=125.000\n",
            ">Predicted=119.209, Expected=155.000\n",
            ">Predicted=138.905, Expected=190.000\n",
            ">Predicted=166.139, Expected=236.000\n",
            ">Predicted=205.831, Expected=189.000\n",
            ">Predicted=183.612, Expected=174.000\n",
            ">Predicted=184.410, Expected=178.000\n",
            ">Predicted=186.637, Expected=136.000\n",
            ">Predicted=154.261, Expected=161.000\n",
            ">Predicted=175.660, Expected=171.000\n",
            ">Predicted=174.168, Expected=149.000\n",
            ">Predicted=159.916, Expected=184.000\n",
            ">Predicted=187.302, Expected=155.000\n",
            ">Predicted=161.653, Expected=276.000\n",
            ">Predicted=244.354, Expected=224.000\n",
            ">Predicted=212.416, Expected=213.000\n",
            ">Predicted=221.180, Expected=279.000\n",
            ">Predicted=262.629, Expected=268.000\n",
            ">Predicted=260.125, Expected=287.000\n",
            ">Predicted=283.321, Expected=238.000\n",
            ">Predicted=255.089, Expected=213.000\n",
            ">Predicted=241.698, Expected=257.000\n",
            ">Predicted=267.302, Expected=293.000\n",
            ">Predicted=286.367, Expected=212.000\n",
            ">Predicted=237.879, Expected=246.000\n",
            ">Predicted=265.181, Expected=353.000\n",
            ">Predicted=323.319, Expected=339.000\n",
            ">Predicted=318.585, Expected=308.000\n",
            ">Predicted=315.823, Expected=247.000\n",
            ">Predicted=279.552, Expected=257.000\n",
            ">Predicted=289.121, Expected=322.000\n",
            ">Predicted=323.735, Expected=298.000\n",
            ">Predicted=305.189, Expected=273.000\n",
            ">Predicted=297.090, Expected=312.000\n",
            ">Predicted=322.523, Expected=249.000\n",
            ">Predicted=275.872, Expected=286.000\n",
            ">Predicted=307.548, Expected=279.000\n",
            ">Predicted=291.949, Expected=309.000\n",
            ">Predicted=315.578, Expected=401.000\n",
            ">Predicted=369.483, Expected=309.000\n",
            ">Predicted=316.868, Expected=328.000\n",
            ">Predicted=345.384, Expected=353.000\n",
            ">Predicted=353.504, Expected=354.000\n",
            ">Predicted=358.419, Expected=327.000\n",
            ">Predicted=345.135, Expected=324.000\n",
            ">Predicted=346.405, Expected=285.000\n",
            ">Predicted=318.015, Expected=243.000\n",
            ">Predicted=286.562, Expected=241.000\n",
            ">Predicted=276.252, Expected=287.000\n",
            ">Predicted=299.811, Expected=355.000\n",
            ">Predicted=338.997, Expected=460.000\n",
            ">Predicted=404.507, Expected=364.000\n",
            ">Predicted=349.335, Expected=487.000\n",
            "RMSE: 49.103\n"
          ]
        }
      ]
    },
    {
      "cell_type": "markdown",
      "metadata": {
        "id": "YcEA_NFFCTyd"
      },
      "source": [
        "The final RMSE of the model on the transformed data was\n",
        "49.443. This is a smaller error than the ARIMA model on untransformed data, but only slightly,\n",
        "and it may or may not be statistically di\u000berent."
      ]
    },
    {
      "cell_type": "markdown",
      "metadata": {
        "id": "nsm6QATDCYWX"
      },
      "source": [
        "# final model\n",
        "box-cox transformation with arima"
      ]
    },
    {
      "cell_type": "markdown",
      "metadata": {
        "id": "fVIFzehcSj6w"
      },
      "source": [
        "# Reference\n",
        "\n",
        "Introduction to Time Series Forecasting with Python: How to Prepare Data and Develop Models to Predict the Future by Jason Brownlee"
      ]
    },
    {
      "cell_type": "code",
      "metadata": {
        "id": "-hwqyHyaSlHJ"
      },
      "source": [
        ""
      ],
      "execution_count": null,
      "outputs": []
    }
  ]
}